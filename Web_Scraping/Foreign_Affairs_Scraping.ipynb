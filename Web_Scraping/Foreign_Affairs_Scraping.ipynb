{
 "cells": [
  {
   "cell_type": "code",
   "execution_count": 3,
   "metadata": {},
   "outputs": [],
   "source": [
    "import requests\n",
    "import time\n",
    "from bs4 import BeautifulSoup\n",
    "import pandas as pd\n",
    "from openpyxl import load_workbook\n",
    "from selenium import webdriver\n",
    "from selenium.webdriver.common.by import By\n",
    "from selenium.webdriver.support.ui import WebDriverWait\n",
    "from selenium.webdriver.support import expected_conditions as EC\n",
    "from selenium.webdriver import ActionChains\n",
    "from selenium import webdriver\n",
    "from selenium.webdriver.chrome.service import Service as ChromeService\n",
    "from selenium.webdriver.chrome.options import Options\n",
    "from webdriver_manager.chrome import ChromeDriverManager\n",
    "\n",
    "# ChromeDriverManager(path = r\".Drivers\").install()\n",
    "# 下載相對應的Chrome Driver並指定在資料夾中，注意命名中的斜線位置，MacOS接受的斜線需注意"
   ]
  },
  {
   "cell_type": "code",
   "execution_count": 2,
   "metadata": {},
   "outputs": [],
   "source": [
    "# 方法一：\n",
    "# 終端機輸入： \n",
    "# export PATH=\"/Applications/Google Chrome.app/Contents/MacOS:$PATH\"\n",
    "# source ~/.zshrc\n",
    "# % Google\\ Chrome --remote-debugging-port=9222 --user-data-dir=\"~/ChromeProfile\"\n",
    "\n",
    "\n",
    "# 方法二：\n",
    "# 終端機輸入：\n",
    "# /Applications/Google\\ Chrome.app/Contents/MacOS/Google\\ Chrome --remote-debugging-port=9222 --user-data-dir=\"~/ChromeProfile\"\n"
   ]
  },
  {
   "cell_type": "code",
   "execution_count": 3,
   "metadata": {},
   "outputs": [],
   "source": [
    "# For Essay, Snapshot, and short review"
   ]
  },
  {
   "cell_type": "code",
   "execution_count": 36,
   "metadata": {},
   "outputs": [],
   "source": [
    "options = webdriver.ChromeOptions()\n",
    "options.add_experimental_option(\"debuggerAddress\", \"127.0.0.1:9222\")\n",
    "browser = webdriver.Chrome(service=ChromeService(executable_path = \"/Users/ttonny0326/GitHub_Project/Topic_Modelling/.Drivers/.wdm/drivers/chromedriver/mac_arm64/114.0.5735.90/chromedriver\"), options=options)\n",
    "\n",
    "# browser = webdriver.ChromeOptions(options)\n",
    "# browser = webdriver.Chrome(executable_path=\"/Users/ttonny0326/Data_Project/Topic_Modelling/chromedriver_mac_arm64/chromedriver\", options=options)\n",
    "\n",
    "soup = BeautifulSoup(browser.page_source, 'html.parser')\n",
    "# print(soup)"
   ]
  },
  {
   "cell_type": "code",
   "execution_count": null,
   "metadata": {},
   "outputs": [],
   "source": [
    "options = webdriver.ChromeOptions()\n",
    "options.add_experimental_option(\"debuggerAddress\", \"127.0.0.1:9222\")\n",
    "browser = webdriver.Chrome(service=ChromeService(executable_path = \"/Users/ttonny0326/GitHub_Project/Topic_Modelling/.Drivers/.wdm/drivers/chromedriver/mac_arm64/114.0.5735.90/chromedriver\"), options=options)\n",
    "\n",
    "soup = BeautifulSoup(browser.page_source, 'html.parser')\n",
    "\n",
    "\n",
    "Title = []\n",
    "Newstitle = soup.find('h1', {'class':'f-serif ls-0 article-title pt-2'})\n",
    "Title.append(Newstitle.text)\n",
    "print(Title)\n",
    "\n",
    "SubTitle = []\n",
    "try:\n",
    "    Newssubtitle = soup.find('h2', {'class':'f-serif ls-0 article-subtitle'})\n",
    "    SubTitle.append(Newssubtitle.text)\n",
    "    print(SubTitle)\n",
    "except:\n",
    "    SubTitle.append(\" \")\n",
    "    print('None')\n",
    "\n",
    "Total_Title = []\n",
    "try:\n",
    "    Total_Title.append(Newstitle.text + ' ' +Newssubtitle.text)\n",
    "    # Total_Title.append(Newssubtitle.text)\n",
    "    print(Total_Title)\n",
    "except:\n",
    "    Total_Title.append(Newstitle.text)\n",
    "    print(Total_Title)\n",
    "\n",
    "Author = []\n",
    "try:\n",
    "    Newsauthor = soup.find('a', {'class':'article-byline-author b4-l'})\n",
    "    Author.append(Newsauthor.text)\n",
    "    print(Author)\n",
    "except:\n",
    "    Author.append('None')\n",
    "    print('None')\n",
    "\n",
    "Posttime = []\n",
    "Newstime = soup.find('time')\n",
    "DDtime = Newstime['datetime']\n",
    "Posttime.append(DDtime)\n",
    "print(Posttime)\n",
    "\n",
    "Content = []\n",
    "Newscontent = soup.find('div', class_='article-dropcap--inner paywall-content').text\n",
    "Content.append(Newscontent)\n",
    "print(Content)\n",
    "\n",
    "df7 = pd.DataFrame({'Title':Title, 'Sub_Title':SubTitle, 'Total_title':Total_Title, 'Author':Author, 'Posted_Time':Posttime, 'Content':Content})\n",
    "\n",
    "df7.to_excel(\"Foreign_Affairs_News.xlsx\", index=False)"
   ]
  },
  {
   "attachments": {},
   "cell_type": "markdown",
   "metadata": {},
   "source": [
    "            以下重複執行"
   ]
  },
  {
   "attachments": {},
   "cell_type": "markdown",
   "metadata": {},
   "source": [
    "            載入更多文章"
   ]
  },
  {
   "cell_type": "code",
   "execution_count": 28,
   "metadata": {},
   "outputs": [],
   "source": [
    "options = webdriver.ChromeOptions()\n",
    "options.add_experimental_option(\"debuggerAddress\", \"127.0.0.1:9222\")\n",
    "# options.add_experimental_option('excludeSwitches', ['enable-automation'])\n",
    "\n",
    "browser = webdriver.Chrome(service=ChromeService(executable_path = \"/Users/ttonny0326/GitHub_Project/Topic_Modelling/.Drivers/.wdm/drivers/chromedriver/mac_arm64/114.0.5735.90/chromedriver\"), options=options)\n",
    "\n",
    "soup = BeautifulSoup(browser.page_source, 'html.parser')\n",
    "\n",
    "more_stories = browser.find_element(\"xpath\", '//*[@id=\"react-browse-results\"]/div[2]/div/div[1]/div/div/button')\n",
    "more_stories.click()\n",
    "time.sleep(1)"
   ]
  },
  {
   "attachments": {},
   "cell_type": "markdown",
   "metadata": {},
   "source": [
    "            開始重複爬取"
   ]
  },
  {
   "cell_type": "code",
   "execution_count": 17,
   "metadata": {},
   "outputs": [],
   "source": [
    "df7 = pd.read_excel('/Users/ttonny0326/Data_Project/Topic_Modelling/News/Foreign_Affairs_News.xlsx')"
   ]
  },
  {
   "cell_type": "code",
   "execution_count": 18,
   "metadata": {},
   "outputs": [
    {
     "name": "stdout",
     "output_type": "stream",
     "text": [
      "['The Israeli Military’s Democratic Dilemma']\n",
      "['Can a Desire to Defend Democracy Justify a Refusal to Follow Orders?']\n",
      "['The Israeli Military’s Democratic Dilemma Can a Desire to Defend Democracy Justify a Refusal to Follow Orders?']\n",
      "['Risa Brooks and Avishay Ben Sasson-Gordis']\n",
      "['2023-05-09']\n",
      "['In March, thousands of reservists in Israel’s military sent shock waves through the country when they announced that they would no longer show up for training and participate in operations if Prime Minister Benjamin Netanyahu did not abandon plans to overhaul the country’s judiciary. One of the proposed measures would effectively muzzle the Israeli Supreme Court’s oversight of the government and of the laws it passes. The vocal criticism from the reservists was a major factor in Netanyahu’s decision to temporarily put the overhaul on ice. But tensions over it have not abated, and a mediation initiative led by Israeli President Isaac Herzog has made little progress in resolving the dispute.In Israel, where military service is considered a civic duty and a rite of passage, the dissent of the reservists is of profound symbolic importance. It also has practical military ramifications, especially because many of the reservists in question belong to the air force and are central to the ongoing operations of the Israel Defense Forces (IDF) in Syria and elsewhere along Israel’s borders. So far, the reservists have continued to show up for duty. But as long as the fight over the reform rages on, the possibility for future dissent persists. By the conventional norms of democratic civil-military relations, the reservists’ threats to refuse to serve would and should be widely condemned. But this is no ordinary moment in Israel’s history. A large cross section of society believes that the government’s planned overhaul represents an existential threat to Israeli democracy. This presents a confounding dilemma for reservists. Maintaining a healthy democracy requires that military officers abstain from intervening in politics. At the same time, standing by passively while elected leaders dismantle democracy is fundamentally at odds with an officer’s commitment to support and defend that democracy. Under these circumstances, the reservists’ pushback is understandable—and perhaps even justified. Even so, that dissent poses long-term risks to Israel’s civil-military relations and potentially to its national security. Stay informed.In-depth analysis delivered weekly.  Sign Up  Email Thank you for signing up.Stay tuned for the latest from Foreign Affairs.Israel is the place where this dilemma is most acute at the moment. But the tension between a military’s subservience to civilian authority and its obligation to uphold democracy is not unique to Israel: military personnel around the world face a similar predicament whenever political leaders threaten to erode democratic values and institutions. That is why the outcome of the current showdown, and the IDF’s role in it, matters far beyond Israel. WHEN SOLDIERS GO ON STRIKE The significance of dissent among Israel’s military reserves is hard to overstate. Reservists play a unique role in the country’s military and society. Unlike in the United States, where only a small segment of the population chooses to enlist, all Israelis—with the exception of the country’s Arab citizens and most ultra-Orthodox Jews—are automatically conscripted into the IDF at the age of 18, with women serving for two years and men for nearly three. When they complete their service, they enter the reserves and are liable to be called up for training and, if necessary, military operations. In practice, only a fraction of Israelis—just over one percent of the population—take part in regular reserve training and missions. But those who do are central to the IDF’s ability to function. Israel’s standing military is relatively small, so reservists are indispensable for filling the ranks in the event of a large-scale war. In the air force, even limited operations, such as Israel’s frequent strikes against Iranian proxies in Syria, rely on reservists who volunteer for active duty. The same is true for some special forces and parts of the intelligence apparatus. These citizen-soldiers command respect and prestige far beyond the military. Their threat to refuse service carries massive symbolic weight, to say nothing of the national security implications of fighter jets sitting idle or of members of the special forces declining missions. Reservists have spoken out against the Israeli government before. In 2003, two dozen air force reserve pilots publicly condemned\\xa0the civilian toll of IDF airstrikes in the Palestinian occupied territories. After Israel went to war against Hezbollah in Lebanon in 2006, some reservists rebuked the government for its handling of the conflict. But the recent turmoil is without precedent. Past protests were relatively small; this time, the dissenters number in the thousands and are far more organized. In some cases, the threatened strike could cripple entire units.A MATTER OF PRINCIPLEUnsurprisingly, the Netanyahu camp has bristled at the pushback. The country’s finance minister has accused the reservists of mounting a military “rebellion” against the government, and a right-wing newspaper has said the reservists’ dissent is “very close to the textbook definition of a military coup.” In contrast, Herzi Halevi, the IDF’s chief of the general staff and its highest-ranking military official, has abstained from such hyperbole. Halevi has met with groups of reservists, reminded them of their obligation to serve, called for unity, and stressed the importance of staying out of politics. But he has not directly denounced them or their actions. For this, pro-Netanyahu pundits have labeled him “a disgrace.” In normal times, the government would be right to condemn undue military meddling in civilian affairs. Even in Israel, where soldiers regularly speak out in the press, the armed forces do not dictate the laws and policies of the state. That responsibility falls on citizens and the political leaders they elect to serve them. But the present circumstances complicate that assessment. Israel may not have a written constitution to which reservists can pledge their allegiance, but their decision to serve nonetheless reflects a deep sense of duty toward its democratic institutions. Netanyahu’s assault on the judiciary challenges the basic tenets of that service. To take an axe to the separation of powers, in their view, is to violate the social compact under which they agreed to serve. This explains why many reservists believe that their position transcends party politics and policy squabbles. In public statements, they have underscored their service under governments of various stripes and in military missions with which they personally disagreed. Rather than objecting to a specific order or government policy, they are taking sides in a fight over the fate of liberal democracy itself. As an open letter by reservists in the intelligence services put it, there is no point in serving “a state that unilaterally changed the terms of the basic agreement with its citizens.” Another letter, penned by reserve submarine crews, called on Netanyahu to “take his hand off Israeli democracy,” as “any harm caused to it will be destructive and irreversible.” Some reservists also worry that undermining judicial checks on the executive could corrupt the decision-making process for military planning. That, in turn, might make it easier for the government to send them on missions in service not of national security but of its own domestic political agenda and possibly expose them to criminal proceedings under international law. The government’s unwillingness to reconsider the overhaul or compromise on some of its most contentious components has only intensified those fears.THE PROMISE AND PERIL OF DISSENTUnfortunately for Netanyahu, his options for silencing critics in the military are limited. As prime minister, he is not the commander in chief, since Israeli law subordinates the military to the defense minister and, ultimately, the cabinet as a whole. Netanyahu can, of course, fire Defense Minister Yoav Gallant—and indeed announced he was doing so in late March, after Gallant called for a compromise with opponents of the judicial overhaul. Following a public outcry, however, Netanyahu backtracked, and Gallant remains in office. Netanyahu could also try to replace Halevi with a more pliant chief of the general staff, but doing so would be legally and politically fraught and would likely cause even more public outrage than his abortive dismissal of Gallant. Far more dangerous are the steps Netanyahu may take short of such formal measures. He has already, for instance, pressured military leaders to publicly question the legitimacy of the reservists and the antigovernment protests more broadly. That line of attack is visible in efforts by influential figures on the Israeli right to label reserve pilots as elitist. Their claims draw on long-standing tensions between pilots, who are perceived as more upper class and left leaning, and their ground crews, who tend to come from historically marginalized groups and skew to the right. Such tactics risk dividing the IDF—long a unifying force and equalizer in Israeli society—along social and political fault lines, with some units or ranks siding with the government and others against it. Fortunately, there are few signs of such a split at present, and the bonds of shared service continue to hold. Still, unlike the protesting reservists, the rank and file and junior officers in combat units include many religious Zionists and others who sympathize with the far-right coalition government. This spells trouble for an institution that depends on unity in the ranks. In addition to fostering divisions inside the military, the current conflict also poses a risk to civilian control over the armed forces. In democracies, military personnel do not get to pick and choose the direction the country will take. Elected leaders make those decisions, and it is up to the military to fall in line and execute them. Of course, that assumes a functioning liberal democracy, not a hollowed-out state increasingly unaccountable to its people. Should Israel weather the current storm, however, the reservists’ actions could set a worrisome precedent. As the Israeli sociologist Yagil Levy has pointed out, right-wing reservists or active-duty service members could block a future government’s efforts to return land to the Palestinians—and point to today’s developments to justify such interference.  In democracies, military personnel do not get to pick the country’s direction.Finally, the protest potentially harms the security of the Israeli state by signaling to the country’s adversaries that its military and society are divided and vulnerable. In recent weeks, Israel has experienced an uptick in attacks on its territory, including rocket barrages by militants located in Gaza, Lebanon, and Syria. Both critics and supporters of the government have expressed concern that perceptions of Israel’s weakness have emboldened its opponents to test the country’s deterrent capability—although they have different versions of who is to blame for that situation.For now, Israel remains in the thick of controversy. What a compromise over the judicial overhaul might look like is unclear, and the government may yet face further resistance by the reserves. Whatever the outcome, the country’s civil-military relations have been severely shaken.The tumult offers a window into the turbulence that militaries elsewhere may face when democracy is in retreat. There should be no conflict between serving civilian leaders and protecting liberal democratic norms—but this requires leaders who subscribe to the same principles. Things get complicated when a government takes aim at its own institutions and values, eroding them from within. Military personnel may be left with a choice none of them should have to face: submit to civilian authority or safeguard the integrity of the democracy they are meant to serve.']\n"
     ]
    }
   ],
   "source": [
    "options = webdriver.ChromeOptions()\n",
    "options.add_experimental_option(\"debuggerAddress\", \"127.0.0.1:9222\")\n",
    "browser = webdriver.Chrome(service=ChromeService(executable_path = \"/Users/ttonny0326/GitHub_Project/Topic_Modelling/.Drivers/.wdm/drivers/chromedriver/mac_arm64/114.0.5735.90/chromedriver\"), options=options)\n",
    "\n",
    "soup = BeautifulSoup(browser.page_source, 'html.parser')\n",
    "\n",
    "\n",
    "Title = []\n",
    "Newstitle = soup.find('h1')\n",
    "Title.append(Newstitle.text)\n",
    "print(Title)\n",
    "\n",
    "SubTitle = []\n",
    "try:\n",
    "    Newssubtitle = soup.find('h2', {'class':'f-serif ls-0 article-subtitle'})\n",
    "    SubTitle.append(Newssubtitle.text)\n",
    "    print(SubTitle)\n",
    "except:\n",
    "    SubTitle.append(\" \")\n",
    "    print('None')\n",
    "\n",
    "Total_Title = []\n",
    "try:\n",
    "    Total_Title.append(Newstitle.text + ' ' +Newssubtitle.text)\n",
    "    # Total_Title.append(Newssubtitle.text)\n",
    "    print(Total_Title)\n",
    "except:\n",
    "    Total_Title.append(Newstitle.text)\n",
    "    print(Total_Title)\n",
    "\n",
    "Author = []\n",
    "try:\n",
    "    Newsauthor = soup.find('a', {'class':'article-byline-author b4-l'})\n",
    "    Author.append(Newsauthor.text)\n",
    "    print(Author)\n",
    "except:\n",
    "    Author.append('None')\n",
    "    print('None')\n",
    "\n",
    "Posttime = []\n",
    "Newstime = soup.find('time')\n",
    "DDtime = Newstime['datetime']\n",
    "Posttime.append(DDtime)\n",
    "print(Posttime)\n",
    "\n",
    "Content = []\n",
    "Newscontent = soup.find('div', class_='article-dropcap--inner paywall-content').text\n",
    "Content.append(Newscontent)\n",
    "print(Content)\n",
    "\n",
    "df8 = pd.DataFrame({'Title':Title, 'Sub_Title':SubTitle, 'Total_title':Total_Title, 'Author':Author, 'Posted_Time':Posttime, 'Content':Content})\n",
    "\n",
    "df9 = pd.concat([df7, df8])"
   ]
  },
  {
   "cell_type": "code",
   "execution_count": 19,
   "metadata": {},
   "outputs": [],
   "source": [
    "df9.to_excel(\"/Users/ttonny0326/Data_Project/Topic_Modelling/News/Foreign_Affairs_News.xlsx\", index=False)"
   ]
  },
  {
   "cell_type": "code",
   "execution_count": null,
   "metadata": {},
   "outputs": [],
   "source": []
  }
 ],
 "metadata": {
  "kernelspec": {
   "display_name": "bertopic",
   "language": "python",
   "name": "python3"
  },
  "language_info": {
   "codemirror_mode": {
    "name": "ipython",
    "version": 3
   },
   "file_extension": ".py",
   "mimetype": "text/x-python",
   "name": "python",
   "nbconvert_exporter": "python",
   "pygments_lexer": "ipython3",
   "version": "3.8.13"
  },
  "orig_nbformat": 4
 },
 "nbformat": 4,
 "nbformat_minor": 2
}
