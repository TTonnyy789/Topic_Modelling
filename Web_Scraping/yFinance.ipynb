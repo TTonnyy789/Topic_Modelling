{
 "cells": [
  {
   "cell_type": "code",
   "execution_count": 1,
   "metadata": {},
   "outputs": [],
   "source": [
    "import requests\n",
    "import time\n",
    "from bs4 import BeautifulSoup\n",
    "import pandas as pd\n",
    "from openpyxl import load_workbook\n",
    "from selenium import webdriver\n",
    "from selenium.webdriver.common.by import By\n",
    "from selenium.webdriver.support.ui import WebDriverWait\n",
    "from selenium.webdriver.support import expected_conditions as EC\n",
    "from selenium.webdriver import ActionChains\n",
    "from selenium import webdriver\n",
    "from selenium.webdriver.chrome.service import Service as ChromeService\n",
    "from selenium.webdriver.chrome.options import Options\n",
    "from webdriver_manager.chrome import ChromeDriverManager"
   ]
  },
  {
   "attachments": {},
   "cell_type": "markdown",
   "metadata": {},
   "source": [
    "            爬取 yahoo finance news 的 URL"
   ]
  },
  {
   "cell_type": "code",
   "execution_count": 3,
   "metadata": {},
   "outputs": [
    {
     "name": "stdout",
     "output_type": "stream",
     "text": [
      "['https://www.yahoofinance.com/news/fire-breaks-dow-louisiana-facility-052006905.html', 'https://www.yahoofinance.com/news/1-fire-breaks-dow-louisiana-050034385.html', 'https://www.yahoofinance.com/news/us-stocks-trade-mixed-notch-040513379.html', 'https://www.yahoofinance.com/news/2-top-rated-stocks-buy-002600453.html', 'https://www.yahoofinance.com/news/risky-assets-stocks-fire-investors-001032539.html', 'https://www.yahoofinance.com/news/investors-once-again-chasing-most-000031963.html', 'https://www.yahoofinance.com/news/main-street-capital-main-gains-221524436.html', 'https://www.yahoofinance.com/news/southwest-airlines-luv-dips-more-221524693.html', 'https://www.yahoofinance.com/news/stmicroelectronics-stm-dips-more-broader-221523701.html', 'https://www.yahoofinance.com/news/nextdoor-holdings-inc-kind-dips-221523776.html', 'https://www.yahoofinance.com/news/ufp-industries-ufpi-gains-market-221523337.html', 'https://www.yahoofinance.com/news/paysafe-limited-psfe-dips-more-221523891.html', 'https://www.yahoofinance.com/news/steel-dynamics-stld-dips-more-221522965.html', 'https://www.yahoofinance.com/news/allison-transmission-alsn-dips-more-221522563.html', 'https://www.yahoofinance.com/news/booking-holdings-bkng-gains-market-221522229.html', 'https://www.yahoofinance.com/news/quicklogic-quik-gains-market-dips-221521523.html', 'https://www.yahoofinance.com/news/enovix-corporation-envx-dips-more-221521729.html', 'https://www.yahoofinance.com/news/volkswagen-ag-unsponsored-adr-vwagy-221521305.html', 'https://www.yahoofinance.com/news/cummins-cmi-dips-more-broader-221521287.html', 'https://www.yahoofinance.com/news/hubspot-hubs-gains-market-dips-221520611.html', 'https://www.yahoofinance.com/news/monster-beverage-mnst-gains-market-221520899.html', 'https://www.yahoofinance.com/news/manitowoc-company-inc-mtw-dips-221520955.html', 'https://www.yahoofinance.com/news/bjs-restaurants-bjri-dips-more-221520491.html', 'https://www.yahoofinance.com/news/tjx-tjx-stock-moves-0-221519111.html', 'https://www.yahoofinance.com/news/ppl-ppl-dips-more-broader-221519616.html', 'https://www.yahoofinance.com/news/crescent-capital-bdc-ccap-gains-221518096.html', 'https://www.yahoofinance.com/news/psychiatrist-charges-700-hourly-wall-221021979.html', 'https://www.yahoofinance.com/news/hedge-funds-reeling-worst-outflows-220840505.html', 'https://www.yahoofinance.com/news/asian-equities-poised-extend-weekly-221636024.html', 'https://www.yahoofinance.com/news/vale-vale-dips-more-broader-220022381.html', 'https://www.yahoofinance.com/news/boise-cascade-bcc-gains-market-220022894.html', 'https://www.yahoofinance.com/news/pennantpark-pflt-dips-more-broader-220022111.html', 'https://www.yahoofinance.com/news/newmont-corporation-nem-dips-more-220022320.html', 'https://www.yahoofinance.com/news/xpeng-inc-sponsored-adr-xpev-220021235.html', 'https://www.yahoofinance.com/news/comcast-cmcsa-dips-more-broader-220021174.html', 'https://www.yahoofinance.com/news/cloudflare-net-dips-more-broader-220021480.html', 'https://www.yahoofinance.com/news/invesco-mortgage-capital-ivr-dips-220021716.html', 'https://www.yahoofinance.com/news/photronics-plab-dips-more-broader-220020387.html', 'https://www.yahoofinance.com/news/crocs-crox-dips-more-broader-220020328.html', 'https://www.yahoofinance.com/news/suzano-sponsored-adr-suz-gains-220020112.html', 'https://www.yahoofinance.com/news/squarespace-sqsp-dips-more-broader-220020521.html', 'https://www.yahoofinance.com/news/covenant-logistics-cvlg-dips-more-220020844.html', 'https://www.yahoofinance.com/news/robinhood-markets-inc-hood-dips-220019023.html', 'https://www.yahoofinance.com/news/encore-wire-wire-dips-more-220019047.html', 'https://www.yahoofinance.com/news/wix-com-wix-dips-more-220019355.html', 'https://www.yahoofinance.com/news/duke-energy-duk-dips-more-220019015.html', 'https://www.yahoofinance.com/news/infineon-technologies-ag-ifnny-dips-220018583.html', 'https://www.yahoofinance.com/news/stellantis-stla-dips-more-broader-220018384.html', 'https://www.yahoofinance.com/news/toyota-motor-corporation-tm-dips-220018579.html', 'https://www.yahoofinance.com/news/trade-desk-ttd-gains-market-215022767.html', 'https://www.yahoofinance.com/news/beazer-homes-bzh-dips-more-215022672.html', 'https://www.yahoofinance.com/news/upstart-holdings-inc-upst-dips-215021316.html', 'https://www.yahoofinance.com/news/goldman-sachs-gs-dips-more-215021004.html', 'https://www.yahoofinance.com/news/pdd-holdings-inc-pdd-dips-215021628.html', 'https://www.yahoofinance.com/news/afya-afya-stock-moves-0-215020706.html', 'https://www.yahoofinance.com/news/plug-power-plug-dips-more-215020178.html', 'https://www.yahoofinance.com/news/solaredge-technologies-sedg-gains-market-215020716.html', 'https://www.yahoofinance.com/news/panasonic-corp-pcrfy-dips-more-215020181.html', 'https://www.yahoofinance.com/news/arbor-realty-trust-abr-dips-215020548.html', 'https://www.yahoofinance.com/news/sea-limited-sponsored-adr-se-215019882.html', 'https://www.yahoofinance.com/news/kraft-heinz-khc-gains-market-215019343.html', 'https://www.yahoofinance.com/news/datadog-ddog-dips-more-broader-215019639.html', 'https://www.yahoofinance.com/news/amphastar-pharmaceuticals-amph-gains-market-215018214.html', 'https://www.yahoofinance.com/news/medtronic-mdt-dips-more-broader-215018259.html', 'https://www.yahoofinance.com/news/ares-capital-arcc-dips-more-215018862.html', 'https://www.yahoofinance.com/news/enbridge-enb-dips-more-broader-215018275.html', 'https://www.yahoofinance.com/news/u-bancorp-usb-dips-more-215017985.html', 'https://www.yahoofinance.com/news/applied-materials-amat-gains-market-215017440.html', 'https://www.yahoofinance.com/news/snowflake-inc-snow-dips-more-215017719.html', 'https://www.yahoofinance.com/news/best-total-stock-market-index-214527299.html', 'https://www.yahoofinance.com/news/dxp-enterprises-dxpe-gains-market-214522745.html', 'https://www.yahoofinance.com/news/hca-healthcare-hca-gains-market-214522935.html', 'https://www.yahoofinance.com/news/paypal-pypl-dips-more-broader-214522685.html', 'https://www.yahoofinance.com/news/immersion-immr-dips-more-broader-214522754.html', 'https://www.yahoofinance.com/news/asml-asml-gains-market-dips-214521032.html', 'https://www.yahoofinance.com/news/royal-caribbean-rcl-dips-more-214521331.html', 'https://www.yahoofinance.com/news/berkshire-hathaway-b-brk-b-214521632.html', 'https://www.yahoofinance.com/news/realty-income-corp-o-dips-214521841.html', 'https://www.yahoofinance.com/news/coinbase-global-inc-coin-dips-214520133.html', 'https://www.yahoofinance.com/news/qualcomm-qcom-dips-more-broader-214520584.html', 'https://www.yahoofinance.com/news/block-sq-dips-more-broader-214520926.html', 'https://www.yahoofinance.com/news/vertiv-holdings-co-vrt-dips-214519191.html', 'https://www.yahoofinance.com/news/nikola-nkla-gains-market-dips-214519863.html', 'https://www.yahoofinance.com/news/li-auto-inc-sponsored-adr-214519863.html', 'https://www.yahoofinance.com/news/crowdstrike-holdings-crwd-dips-more-214519701.html', 'https://www.yahoofinance.com/news/home-depot-hd-gains-market-214518943.html', 'https://www.yahoofinance.com/news/broadcom-inc-avgo-dips-more-214518143.html', 'https://www.yahoofinance.com/news/marriott-international-mar-dips-more-214518084.html', 'https://www.yahoofinance.com/news/super-micro-computer-smci-gains-214518415.html', 'https://www.yahoofinance.com/news/target-tgt-dips-more-broader-214517602.html', 'https://www.yahoofinance.com/news/wharton-professor-jeremy-siegel-says-214403842.html', 'https://www.yahoofinance.com/news/us-stocks-rise-banks-set-213454009.html', 'https://www.yahoofinance.com/news/3-stocks-expected-beat-earnings-211400184.html', 'https://www.yahoofinance.com/news/us-stocks-p-500-ends-210429087.html', 'https://www.yahoofinance.com/news/best-leveraged-etfs-high-risk-222357221.html', 'https://www.yahoofinance.com/news/global-markets-wall-st-holds-204832639.html', 'https://www.yahoofinance.com/news/2-biotech-stocks-most-likely-204034808.html', 'https://www.yahoofinance.com/news/emerging-markets-latam-fx-clocks-202650099.html', 'https://www.yahoofinance.com/news/leslie-cuts-annual-forecast-slowing-161724391.html', 'https://www.yahoofinance.com/news/4-safe-stocks-long-term-201400010.html', 'https://www.yahoofinance.com/news/stock-market-today-dow-outperforms-201318985.html', 'https://www.yahoofinance.com/news/dow-gains-after-bank-earnings-as-stocks-finish-winning-week-stock-market-news-today-200251709.html', 'https://www.yahoofinance.com/news/us-stocks-p-500-ends-200041703.html', 'https://www.yahoofinance.com/news/hedge-funds-rush-unwind-bearish-194851877.html', 'https://www.yahoofinance.com/news/1-hedge-funds-rush-unwind-194441458.html', 'https://www.yahoofinance.com/news/us-stocks-p-500-flat-190206877.html', 'https://www.yahoofinance.com/news/tesla-hits-abs-market-first-171135186.html', 'https://www.yahoofinance.com/news/wall-street-launch-1-9-183147663.html', 'https://www.yahoofinance.com/news/global-markets-wall-st-climbs-181412102.html']\n",
      "109\n"
     ]
    }
   ],
   "source": [
    "# Scrape a specific webpage's news' URL\n",
    "# Should be aware of the name and file path\n",
    "\n",
    "options = webdriver.ChromeOptions()\n",
    "options.add_experimental_option(\"debuggerAddress\", \"127.0.0.1:9222\")\n",
    "# options.add_experimental_option('excludeSwitches', ['enable-automation'])\n",
    "\n",
    "browser = webdriver.Chrome(service=ChromeService(executable_path = \"/Users/ttonny0326/GitHub_Project/Topic_Modelling/.Drivers/.wdm/drivers/chromedriver/mac_arm64/114.0.5735.90/chromedriver\"), options=options)\n",
    "\n",
    "soup = BeautifulSoup(browser.page_source, 'html.parser')\n",
    "\n",
    "# get each URL\n",
    "\n",
    "URL = []\n",
    "url_div = soup.find_all('h3', {'class': 'Mb(5px)'})\n",
    "# url_link = div.find('a')\n",
    "\n",
    "for div in url_div:\n",
    "    url_link = div.find('a')\n",
    "    # print(\"https://www.bloomberg.com\" + url_link.get('href'))\n",
    "    if \"/news/\" in url_link.get('href'):\n",
    "        URL.append(\"https://www.yahoofinance.com\" + url_link.get('href'))\n",
    "    else:\n",
    "        pass\n",
    "\n",
    "print(URL)\n",
    "print(len(URL))"
   ]
  },
  {
   "attachments": {},
   "cell_type": "markdown",
   "metadata": {},
   "source": [
    "            將 URL 檔案存檔"
   ]
  },
  {
   "cell_type": "code",
   "execution_count": 4,
   "metadata": {},
   "outputs": [],
   "source": [
    "# Ensure that the total amount of URL is not over 400+\n",
    "\n",
    "df6 = pd.DataFrame({'URL':URL})\n",
    "\n",
    "df6.to_excel('yFinance_URL_2023_07_15.xlsx', index=False)"
   ]
  },
  {
   "attachments": {},
   "cell_type": "markdown",
   "metadata": {},
   "source": [
    "            確認 yahoo finance HTML 格式"
   ]
  },
  {
   "cell_type": "code",
   "execution_count": 12,
   "metadata": {},
   "outputs": [
    {
     "name": "stdout",
     "output_type": "stream",
     "text": [
      "['Stock Market News']\n",
      "None\n",
      "['Stock Market News']\n",
      "None\n",
      "['2023-07-14T18:56:59.000Z']\n",
      "[\"EV stocks have multiplied in Tesla’s wake and as electric cars look to go mainstream. Here are the top-rated electric-vehicle makers. (Bloomberg) -- Tesla Inc. is returning to the US asset-backed securities market for the first time in over a year, with a $1 billion prime auto-lease transaction, a sign of how credit markets are starting to recover.Most Read from BloombergSingapore Arrests Minister, Property Tycoon in Graft ProbeHow Much Income You Need to Crack America's Richest 1%Biden Administration to Forgive $39 Billion in Student DebtTop-Ranked Hedge Fund Chief Sees S&P 500 Entering ‘No Man’s Land’Treasury Euphoria Dwindles After Hot Economic Data: Markets WrapThe electric-vehicle maker is in the premarketing stage for the deal, according to a person familiar with the matter, who is not authorized to speak publicly and asked not to be identified. It marks Tesla’s first ABS transaction since securing blue-chip status in March.The company hasn’t stepped into the US ABS market since September 2021, except for one sale that was halted in March 2022. The latest marketing comes as the asset-backed securities market, which repackages different types of debt into bonds of varying risk and size, slowly recovers from the volatility that rocked the market toward the end of last year. Spreads on new issue offerings have come in significantly since their October and November wides. And in secondary markets, bonds are being exchanged at a yield of 5.3% compared to the 5.7% highs in November, according to one measure.“Liquidity has increased and spreads have tightened through the first half of the year, which has given ABS issuers a better environment to raise money in our market,” said Jordan Chirico, head of Indianapolis-based 352 Capital, a firm backed by money manager Leucadia Asset Management.Tesla, which started its ABS program in early 2018, is repackaging a pool of leases on new electric vehicles manufactured by Tesla and originated through Tesla Finance into the securities, according to a presale report from Fitch Ratings. The loans come from borrowers with an average credit score, known as FICO, of 773, which is the lowest for the platform since a deal they did in 2018, Fitch said. Wells Fargo is structuring the sale, the person said.Story continues“Tesla’s bond sale comes as the ABS market recovers since November along with other risk assets,” said Tracy Chen, portfolio manager at Brandywine Global Investment Management. “However, spreads are still wide compared to before the pandemic. Certain ABS sectors are also cheap relative to corporate bonds of equivalent ratings.”The bond sale comes as the carmaker attempts grow its business by 50% annually, according to Bloomberg Intelligence’s Joel Levington. “They’ve been paying down debt as it matures and doing it really consistently,” he said.Tesla wasn’t the only borrower that delayed a deal in March of last year, right after Russia’s invasion of Ukraine rattled the bond markets. Both auto-finance company World Omni and “buy now, pay later” lender Affirm Holdings Inc. also postponed offerings at the time.--With assistance from Charles Williams, Sri Taylor and Scott Carpenter.(Updates with context throughout.)Most Read from Bloomberg BusinessweekWhat If the Next Big Social Media App Is ... Nothing?South Korea’s Archaic Rental System Is Costing People Their Life SavingsA Japanese Company Bans Late-Night Work. A Baby Boom Soon FollowsiQuit: My Hellish Attempt to Leave Apple’s Walled GardenNew Bitcoin ETFs Now? Amid the Crypto Crackdown?©2023 Bloomberg L.P. CrowdStrike Holdings shows rising price performance, earning an upgrade to its IBD Relative Strength Rating\"]\n"
     ]
    }
   ],
   "source": [
    "### This cell is solely for the purpose of building a basic data frame and convert it to excel\n",
    "\n",
    "options = webdriver.ChromeOptions()\n",
    "options.add_experimental_option(\"debuggerAddress\", \"127.0.0.1:9222\")\n",
    "# options.add_experimental_option('excludeSwitches', ['enable-automation'])\n",
    "\n",
    "browser = webdriver.Chrome(service=ChromeService(executable_path = \"/Users/ttonny0326/GitHub_Project/Topic_Modelling/.Drivers/.wdm/drivers/chromedriver/mac_arm64/114.0.5735.90/chromedriver\"), options=options)\n",
    "\n",
    "soup = BeautifulSoup(browser.page_source, 'html.parser')\n",
    "\n",
    "Title = []\n",
    "Newstitle = soup.find('h1')\n",
    "Title.append(Newstitle.text)\n",
    "print(Title)\n",
    "\n",
    "SubTitle = []\n",
    "try:\n",
    "    Newssubtitle = soup.find('h2', {'class':'f-serif ls-0 article-subtitle'})\n",
    "    SubTitle.append(Newssubtitle.text)\n",
    "    print(SubTitle)\n",
    "except:\n",
    "    SubTitle.append(\" \")\n",
    "    print('None')\n",
    "\n",
    "Total_Title = []\n",
    "try:\n",
    "    Total_Title.append(Newstitle.text + ' ' +Newssubtitle.text)\n",
    "    # Total_Title.append(Newssubtitle.text)\n",
    "    print(Total_Title)\n",
    "except:\n",
    "    Total_Title.append(Newstitle.text)\n",
    "    print(Total_Title)\n",
    "    \n",
    "Author = []\n",
    "try:\n",
    "    Newsauthor = soup.find('div', {'class':'caas-attr-item-author'})\n",
    "    NewsAA = Newsauthor.soup.find('span', {'class':'caas-author-byline-collapse'}).text\n",
    "    Author.append(NewsAA)\n",
    "    print(Author)\n",
    "except:\n",
    "    Author.append('None')\n",
    "    print('None')\n",
    "\n",
    "Date = []\n",
    "Newstime = soup.find('time')\n",
    "DDtime = Newstime['datetime']\n",
    "Date.append(DDtime)\n",
    "print(Date)\n",
    "\n",
    "Content = []\n",
    "Newscontent = soup.find_all('div', attrs={\"class\": \"caas-body\"})\n",
    "Raw_Content = [p.text for p in Newscontent]\n",
    "Merged_Content = ' '.join(Raw_Content)\n",
    "Content.append(Merged_Content)\n",
    "print(Content)\n",
    "\n",
    "dftest = pd.DataFrame({'Title':Title, 'Sub_Title':SubTitle, 'Total_title':Total_Title, 'Author':Author, 'Date':Date, 'Content':Content})\n",
    "\n",
    "# df7.to_excel(\"Bloom_Berg_News.xlsx\", index=False)"
   ]
  },
  {
   "cell_type": "code",
   "execution_count": null,
   "metadata": {},
   "outputs": [],
   "source": []
  },
  {
   "cell_type": "code",
   "execution_count": null,
   "metadata": {},
   "outputs": [],
   "source": []
  },
  {
   "cell_type": "code",
   "execution_count": null,
   "metadata": {},
   "outputs": [],
   "source": []
  }
 ],
 "metadata": {
  "kernelspec": {
   "display_name": "topic_modelling",
   "language": "python",
   "name": "python3"
  },
  "language_info": {
   "codemirror_mode": {
    "name": "ipython",
    "version": 3
   },
   "file_extension": ".py",
   "mimetype": "text/x-python",
   "name": "python",
   "nbconvert_exporter": "python",
   "pygments_lexer": "ipython3",
   "version": "3.8.13"
  },
  "orig_nbformat": 4
 },
 "nbformat": 4,
 "nbformat_minor": 2
}
