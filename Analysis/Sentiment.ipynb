{
 "cells": [
  {
   "cell_type": "code",
   "execution_count": 1,
   "metadata": {},
   "outputs": [],
   "source": [
    "import pandas as pd\n",
    "from transformers import pipeline"
   ]
  },
  {
   "cell_type": "code",
   "execution_count": 2,
   "metadata": {},
   "outputs": [
    {
     "name": "stderr",
     "output_type": "stream",
     "text": [
      "No model was supplied, defaulted to distilbert-base-uncased-finetuned-sst-2-english (https://huggingface.co/distilbert-base-uncased-finetuned-sst-2-english)\n"
     ]
    },
    {
     "name": "stdout",
     "output_type": "stream",
     "text": [
      "Metal device set to: Apple M1 Pro\n",
      "\n",
      "systemMemory: 16.00 GB\n",
      "maxCacheSize: 5.33 GB\n",
      "\n"
     ]
    },
    {
     "name": "stderr",
     "output_type": "stream",
     "text": [
      "2023-07-12 16:52:30.665314: I tensorflow/core/common_runtime/pluggable_device/pluggable_device_factory.cc:306] Could not identify NUMA node of platform GPU ID 0, defaulting to 0. Your kernel may not have been built with NUMA support.\n",
      "2023-07-12 16:52:30.665850: I tensorflow/core/common_runtime/pluggable_device/pluggable_device_factory.cc:272] Created TensorFlow device (/job:localhost/replica:0/task:0/device:GPU:0 with 0 MB memory) -> physical PluggableDevice (device: 0, name: METAL, pci bus id: <undefined>)\n"
     ]
    }
   ],
   "source": [
    "# Load the Excel file\n",
    "news_data = pd.read_excel(\"/Users/ttonny0326/Data_Project/Topic_Modelling/merge_data.xlsx\")\n",
    "\n",
    "# Initialize a sentiment-analysis pipeline\n",
    "nlp = pipeline(\"sentiment-analysis\")"
   ]
  },
  {
   "cell_type": "code",
   "execution_count": 3,
   "metadata": {},
   "outputs": [
    {
     "name": "stdout",
     "output_type": "stream",
     "text": [
      "                                               Title Sub_Title  \\\n",
      "0  Five Takeaways From the Paris Summit to Fix Gl...             \n",
      "1  US Economy May Beat the Odds This Year and Dod...             \n",
      "2  Deluge Disrupts Copper Mines, Crops and Transp...             \n",
      "3  Banks Hit by Worst Week Since May as Regulator...             \n",
      "4  Chinese Builder Halts All Offshore Debt Paymen...             \n",
      "\n",
      "                                         Total_title  \\\n",
      "0  Five Takeaways From the Paris Summit to Fix Gl...   \n",
      "1  US Economy May Beat the Odds This Year and Dod...   \n",
      "2  Deluge Disrupts Copper Mines, Crops and Transp...   \n",
      "3  Banks Hit by Worst Week Since May as Regulator...   \n",
      "4  Chinese Builder Halts All Offshore Debt Paymen...   \n",
      "\n",
      "                                  Author       Date  \\\n",
      "0  Akshat Rathi and Natasha White+Follow 2023-06-23   \n",
      "1                     Ben Holland+Follow 2023-06-23   \n",
      "2                   James Attwood+Follow 2023-06-23   \n",
      "3                     Matt Turner+Follow 2023-06-23   \n",
      "4                        Jacob Gu+Follow 2023-06-23   \n",
      "\n",
      "                                             Content  \\\n",
      "0  After two days of talks overhauling the global...   \n",
      "1   This is Washington Edition, the newsletter ab...   \n",
      "2  Central Chile’s first major rain storms this y...   \n",
      "3  Bank stocks’ recovery from their swoon earlier...   \n",
      "4  A Hong Kong-listed Chinese real estate develop...   \n",
      "\n",
      "                                   processed_content  precessed_content_Len  \\\n",
      "0  two days talks overhauling global financial sy...                    823   \n",
      "1  washington edition newsletter money power poli...                    682   \n",
      "2  central chile’s first major rain storms year l...                    174   \n",
      "3  bank stocks’ recovery swoon earlier year took ...                    242   \n",
      "4  hong konglisted chinese real estate developer ...                    238   \n",
      "\n",
      "   Topic    Open    High          Low        Close    Adj Close     Volume  \\\n",
      "0      1  7502.0  7502.0  7439.700195  7461.899902  7461.899902  621489600   \n",
      "1      0  7502.0  7502.0  7439.700195  7461.899902  7461.899902  621489600   \n",
      "2     -1  7502.0  7502.0  7439.700195  7461.899902  7461.899902  621489600   \n",
      "3     -1  7502.0  7502.0  7439.700195  7461.899902  7461.899902  621489600   \n",
      "4      0  7502.0  7502.0  7439.700195  7461.899902  7461.899902  621489600   \n",
      "\n",
      "  sentiment  \n",
      "0  NEGATIVE  \n",
      "1  POSITIVE  \n",
      "2  NEGATIVE  \n",
      "3  NEGATIVE  \n",
      "4  NEGATIVE  \n"
     ]
    }
   ],
   "source": [
    "def get_sentiment(text):\n",
    "    # Truncate the text to the maximum length\n",
    "    text = text[:512]\n",
    "    return nlp(text)[0]['label']\n",
    "\n",
    "# Apply the function to the 'Content' column of your data\n",
    "news_data['sentiment'] = news_data['Content'].apply(get_sentiment)\n",
    "\n",
    "# Print the first few rows of the data\n",
    "print(news_data.head())"
   ]
  },
  {
   "cell_type": "code",
   "execution_count": 5,
   "metadata": {},
   "outputs": [],
   "source": [
    "news_data.to_excel(\"Sentiment_bloomberg.xlsx\", index=False)"
   ]
  },
  {
   "cell_type": "code",
   "execution_count": null,
   "metadata": {},
   "outputs": [],
   "source": []
  }
 ],
 "metadata": {
  "kernelspec": {
   "display_name": "topic_modelling",
   "language": "python",
   "name": "python3"
  },
  "language_info": {
   "codemirror_mode": {
    "name": "ipython",
    "version": 3
   },
   "file_extension": ".py",
   "mimetype": "text/x-python",
   "name": "python",
   "nbconvert_exporter": "python",
   "pygments_lexer": "ipython3",
   "version": "3.8.13"
  },
  "orig_nbformat": 4
 },
 "nbformat": 4,
 "nbformat_minor": 2
}
