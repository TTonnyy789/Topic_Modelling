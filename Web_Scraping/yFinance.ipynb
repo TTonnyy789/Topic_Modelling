{
 "cells": [
  {
   "cell_type": "code",
   "execution_count": 1,
   "metadata": {},
   "outputs": [],
   "source": [
    "import requests\n",
    "import time\n",
    "from bs4 import BeautifulSoup\n",
    "import pandas as pd\n",
    "from openpyxl import load_workbook\n",
    "from selenium import webdriver\n",
    "from selenium.webdriver.common.by import By\n",
    "from selenium.webdriver.support.ui import WebDriverWait\n",
    "from selenium.webdriver.support import expected_conditions as EC\n",
    "from selenium.webdriver import ActionChains\n",
    "from selenium import webdriver\n",
    "from selenium.webdriver.chrome.service import Service as ChromeService\n",
    "from selenium.webdriver.chrome.options import Options\n",
    "from webdriver_manager.chrome import ChromeDriverManager"
   ]
  },
  {
   "cell_type": "code",
   "execution_count": 3,
   "metadata": {},
   "outputs": [
    {
     "name": "stdout",
     "output_type": "stream",
     "text": [
      "['https://www.yahoofinance.com/news/fire-breaks-dow-louisiana-facility-052006905.html', 'https://www.yahoofinance.com/news/1-fire-breaks-dow-louisiana-050034385.html', 'https://www.yahoofinance.com/news/us-stocks-trade-mixed-notch-040513379.html', 'https://www.yahoofinance.com/news/2-top-rated-stocks-buy-002600453.html', 'https://www.yahoofinance.com/news/risky-assets-stocks-fire-investors-001032539.html', 'https://www.yahoofinance.com/news/investors-once-again-chasing-most-000031963.html', 'https://www.yahoofinance.com/news/main-street-capital-main-gains-221524436.html', 'https://www.yahoofinance.com/news/southwest-airlines-luv-dips-more-221524693.html', 'https://www.yahoofinance.com/news/stmicroelectronics-stm-dips-more-broader-221523701.html', 'https://www.yahoofinance.com/news/nextdoor-holdings-inc-kind-dips-221523776.html', 'https://www.yahoofinance.com/news/ufp-industries-ufpi-gains-market-221523337.html', 'https://www.yahoofinance.com/news/paysafe-limited-psfe-dips-more-221523891.html', 'https://www.yahoofinance.com/news/steel-dynamics-stld-dips-more-221522965.html', 'https://www.yahoofinance.com/news/allison-transmission-alsn-dips-more-221522563.html', 'https://www.yahoofinance.com/news/booking-holdings-bkng-gains-market-221522229.html', 'https://www.yahoofinance.com/news/quicklogic-quik-gains-market-dips-221521523.html', 'https://www.yahoofinance.com/news/enovix-corporation-envx-dips-more-221521729.html', 'https://www.yahoofinance.com/news/volkswagen-ag-unsponsored-adr-vwagy-221521305.html', 'https://www.yahoofinance.com/news/cummins-cmi-dips-more-broader-221521287.html', 'https://www.yahoofinance.com/news/hubspot-hubs-gains-market-dips-221520611.html', 'https://www.yahoofinance.com/news/monster-beverage-mnst-gains-market-221520899.html', 'https://www.yahoofinance.com/news/manitowoc-company-inc-mtw-dips-221520955.html', 'https://www.yahoofinance.com/news/bjs-restaurants-bjri-dips-more-221520491.html', 'https://www.yahoofinance.com/news/tjx-tjx-stock-moves-0-221519111.html', 'https://www.yahoofinance.com/news/ppl-ppl-dips-more-broader-221519616.html', 'https://www.yahoofinance.com/news/crescent-capital-bdc-ccap-gains-221518096.html', 'https://www.yahoofinance.com/news/psychiatrist-charges-700-hourly-wall-221021979.html', 'https://www.yahoofinance.com/news/hedge-funds-reeling-worst-outflows-220840505.html', 'https://www.yahoofinance.com/news/asian-equities-poised-extend-weekly-221636024.html', 'https://www.yahoofinance.com/news/vale-vale-dips-more-broader-220022381.html', 'https://www.yahoofinance.com/news/boise-cascade-bcc-gains-market-220022894.html', 'https://www.yahoofinance.com/news/pennantpark-pflt-dips-more-broader-220022111.html', 'https://www.yahoofinance.com/news/newmont-corporation-nem-dips-more-220022320.html', 'https://www.yahoofinance.com/news/xpeng-inc-sponsored-adr-xpev-220021235.html', 'https://www.yahoofinance.com/news/comcast-cmcsa-dips-more-broader-220021174.html', 'https://www.yahoofinance.com/news/cloudflare-net-dips-more-broader-220021480.html', 'https://www.yahoofinance.com/news/invesco-mortgage-capital-ivr-dips-220021716.html', 'https://www.yahoofinance.com/news/photronics-plab-dips-more-broader-220020387.html', 'https://www.yahoofinance.com/news/crocs-crox-dips-more-broader-220020328.html', 'https://www.yahoofinance.com/news/suzano-sponsored-adr-suz-gains-220020112.html', 'https://www.yahoofinance.com/news/squarespace-sqsp-dips-more-broader-220020521.html', 'https://www.yahoofinance.com/news/covenant-logistics-cvlg-dips-more-220020844.html', 'https://www.yahoofinance.com/news/robinhood-markets-inc-hood-dips-220019023.html', 'https://www.yahoofinance.com/news/encore-wire-wire-dips-more-220019047.html', 'https://www.yahoofinance.com/news/wix-com-wix-dips-more-220019355.html', 'https://www.yahoofinance.com/news/duke-energy-duk-dips-more-220019015.html', 'https://www.yahoofinance.com/news/infineon-technologies-ag-ifnny-dips-220018583.html', 'https://www.yahoofinance.com/news/stellantis-stla-dips-more-broader-220018384.html', 'https://www.yahoofinance.com/news/toyota-motor-corporation-tm-dips-220018579.html', 'https://www.yahoofinance.com/news/trade-desk-ttd-gains-market-215022767.html', 'https://www.yahoofinance.com/news/beazer-homes-bzh-dips-more-215022672.html', 'https://www.yahoofinance.com/news/upstart-holdings-inc-upst-dips-215021316.html', 'https://www.yahoofinance.com/news/goldman-sachs-gs-dips-more-215021004.html', 'https://www.yahoofinance.com/news/pdd-holdings-inc-pdd-dips-215021628.html', 'https://www.yahoofinance.com/news/afya-afya-stock-moves-0-215020706.html', 'https://www.yahoofinance.com/news/plug-power-plug-dips-more-215020178.html', 'https://www.yahoofinance.com/news/solaredge-technologies-sedg-gains-market-215020716.html', 'https://www.yahoofinance.com/news/panasonic-corp-pcrfy-dips-more-215020181.html', 'https://www.yahoofinance.com/news/arbor-realty-trust-abr-dips-215020548.html', 'https://www.yahoofinance.com/news/sea-limited-sponsored-adr-se-215019882.html', 'https://www.yahoofinance.com/news/kraft-heinz-khc-gains-market-215019343.html', 'https://www.yahoofinance.com/news/datadog-ddog-dips-more-broader-215019639.html', 'https://www.yahoofinance.com/news/amphastar-pharmaceuticals-amph-gains-market-215018214.html', 'https://www.yahoofinance.com/news/medtronic-mdt-dips-more-broader-215018259.html', 'https://www.yahoofinance.com/news/ares-capital-arcc-dips-more-215018862.html', 'https://www.yahoofinance.com/news/enbridge-enb-dips-more-broader-215018275.html', 'https://www.yahoofinance.com/news/u-bancorp-usb-dips-more-215017985.html', 'https://www.yahoofinance.com/news/applied-materials-amat-gains-market-215017440.html', 'https://www.yahoofinance.com/news/snowflake-inc-snow-dips-more-215017719.html', 'https://www.yahoofinance.com/news/best-total-stock-market-index-214527299.html', 'https://www.yahoofinance.com/news/dxp-enterprises-dxpe-gains-market-214522745.html', 'https://www.yahoofinance.com/news/hca-healthcare-hca-gains-market-214522935.html', 'https://www.yahoofinance.com/news/paypal-pypl-dips-more-broader-214522685.html', 'https://www.yahoofinance.com/news/immersion-immr-dips-more-broader-214522754.html', 'https://www.yahoofinance.com/news/asml-asml-gains-market-dips-214521032.html', 'https://www.yahoofinance.com/news/royal-caribbean-rcl-dips-more-214521331.html', 'https://www.yahoofinance.com/news/berkshire-hathaway-b-brk-b-214521632.html', 'https://www.yahoofinance.com/news/realty-income-corp-o-dips-214521841.html', 'https://www.yahoofinance.com/news/coinbase-global-inc-coin-dips-214520133.html', 'https://www.yahoofinance.com/news/qualcomm-qcom-dips-more-broader-214520584.html', 'https://www.yahoofinance.com/news/block-sq-dips-more-broader-214520926.html', 'https://www.yahoofinance.com/news/vertiv-holdings-co-vrt-dips-214519191.html', 'https://www.yahoofinance.com/news/nikola-nkla-gains-market-dips-214519863.html', 'https://www.yahoofinance.com/news/li-auto-inc-sponsored-adr-214519863.html', 'https://www.yahoofinance.com/news/crowdstrike-holdings-crwd-dips-more-214519701.html', 'https://www.yahoofinance.com/news/home-depot-hd-gains-market-214518943.html', 'https://www.yahoofinance.com/news/broadcom-inc-avgo-dips-more-214518143.html', 'https://www.yahoofinance.com/news/marriott-international-mar-dips-more-214518084.html', 'https://www.yahoofinance.com/news/super-micro-computer-smci-gains-214518415.html', 'https://www.yahoofinance.com/news/target-tgt-dips-more-broader-214517602.html', 'https://www.yahoofinance.com/news/wharton-professor-jeremy-siegel-says-214403842.html', 'https://www.yahoofinance.com/news/us-stocks-rise-banks-set-213454009.html', 'https://www.yahoofinance.com/news/3-stocks-expected-beat-earnings-211400184.html', 'https://www.yahoofinance.com/news/us-stocks-p-500-ends-210429087.html', 'https://www.yahoofinance.com/news/best-leveraged-etfs-high-risk-222357221.html', 'https://www.yahoofinance.com/news/global-markets-wall-st-holds-204832639.html', 'https://www.yahoofinance.com/news/2-biotech-stocks-most-likely-204034808.html', 'https://www.yahoofinance.com/news/emerging-markets-latam-fx-clocks-202650099.html', 'https://www.yahoofinance.com/news/leslie-cuts-annual-forecast-slowing-161724391.html', 'https://www.yahoofinance.com/news/4-safe-stocks-long-term-201400010.html', 'https://www.yahoofinance.com/news/stock-market-today-dow-outperforms-201318985.html', 'https://www.yahoofinance.com/news/dow-gains-after-bank-earnings-as-stocks-finish-winning-week-stock-market-news-today-200251709.html', 'https://www.yahoofinance.com/news/us-stocks-p-500-ends-200041703.html', 'https://www.yahoofinance.com/news/hedge-funds-rush-unwind-bearish-194851877.html', 'https://www.yahoofinance.com/news/1-hedge-funds-rush-unwind-194441458.html', 'https://www.yahoofinance.com/news/us-stocks-p-500-flat-190206877.html', 'https://www.yahoofinance.com/news/tesla-hits-abs-market-first-171135186.html', 'https://www.yahoofinance.com/news/wall-street-launch-1-9-183147663.html', 'https://www.yahoofinance.com/news/global-markets-wall-st-climbs-181412102.html']\n",
      "109\n"
     ]
    }
   ],
   "source": [
    "# Scrape a specific webpage's news' URL\n",
    "# Should be aware of the name and file path\n",
    "\n",
    "options = webdriver.ChromeOptions()\n",
    "options.add_experimental_option(\"debuggerAddress\", \"127.0.0.1:9222\")\n",
    "# options.add_experimental_option('excludeSwitches', ['enable-automation'])\n",
    "\n",
    "browser = webdriver.Chrome(service=ChromeService(executable_path = \"/Users/ttonny0326/GitHub_Project/Topic_Modelling/.Drivers/.wdm/drivers/chromedriver/mac_arm64/114.0.5735.90/chromedriver\"), options=options)\n",
    "\n",
    "soup = BeautifulSoup(browser.page_source, 'html.parser')\n",
    "\n",
    "# get each URL\n",
    "\n",
    "URL = []\n",
    "url_div = soup.find_all('h3', {'class': 'Mb(5px)'})\n",
    "# url_link = div.find('a')\n",
    "\n",
    "for div in url_div:\n",
    "    url_link = div.find('a')\n",
    "    # print(\"https://www.bloomberg.com\" + url_link.get('href'))\n",
    "    if \"/news/\" in url_link.get('href'):\n",
    "        URL.append(\"https://www.yahoofinance.com\" + url_link.get('href'))\n",
    "    else:\n",
    "        pass\n",
    "\n",
    "print(URL)\n",
    "print(len(URL))"
   ]
  },
  {
   "cell_type": "code",
   "execution_count": 4,
   "metadata": {},
   "outputs": [],
   "source": [
    "# Ensure that the total amount of URL is not over 400+\n",
    "\n",
    "df6 = pd.DataFrame({'URL':URL})\n",
    "\n",
    "df6.to_excel('yFinance_URL_2023_07_15.xlsx', index=False)"
   ]
  },
  {
   "cell_type": "code",
   "execution_count": null,
   "metadata": {},
   "outputs": [],
   "source": []
  }
 ],
 "metadata": {
  "kernelspec": {
   "display_name": "topic_modelling",
   "language": "python",
   "name": "python3"
  },
  "language_info": {
   "codemirror_mode": {
    "name": "ipython",
    "version": 3
   },
   "file_extension": ".py",
   "mimetype": "text/x-python",
   "name": "python",
   "nbconvert_exporter": "python",
   "pygments_lexer": "ipython3",
   "version": "3.8.13"
  },
  "orig_nbformat": 4
 },
 "nbformat": 4,
 "nbformat_minor": 2
}
